{
 "cells": [
  {
   "cell_type": "code",
   "execution_count": 1,
   "metadata": {},
   "outputs": [],
   "source": [
    "from datetime import datetime\n",
    "\n",
    "dailynews_date = \"2024-10-16T13:20:27+00:00\"\n",
    "thairath_date = \"19 ต.ค. 2567 14:26 น.\"\n",
    "pptv_date = '<time datetime=\"2024-10-19 13:42:00\">19 ต.ค. 2567 ,13:42น.</time>'"
   ]
  },
  {
   "cell_type": "code",
   "execution_count": 15,
   "metadata": {},
   "outputs": [
    {
     "name": "stdout",
     "output_type": "stream",
     "text": [
      "2024-10-16T13:20:27+00:00, 2024-10-19T14:28:00, 2024-10-19T13:42:00\n"
     ]
    }
   ],
   "source": [
    "from datetime import datetime\n",
    "import locale\n",
    "\n",
    "# Ensure that the locale is set to Thai for parsing the Thai date format\n",
    "locale.setlocale(locale.LC_TIME, \"th_TH.utf8\")\n",
    "\n",
    "# 1. Daily News (ISO format)\n",
    "dailynews_date = \"2024-10-16T13:20:27+00:00\"\n",
    "dailynews_dt = datetime.fromisoformat(dailynews_date)\n",
    "\n",
    "# 2. Thairath date (Thai Buddhist calendar)\n",
    "thairath_date = \"19 ต.ค. 2567 14:26 น.\"\n",
    "# Replace Buddhist year (2567) with Gregorian year by subtracting 543\n",
    "thairath_date_gregorian = thairath_date.replace(\"2567\", str(2567 - 543))\n",
    "thairath_date_gregorian = '19 ต.ค. 2024 14:28 น.'\n",
    "thairath_dt = datetime.strptime(thairath_date_gregorian, \"%d %b %Y %H:%M น.\")\n",
    "\n",
    "# 3. PPTV date (ISO format within HTML)\n",
    "pptv_date = '<time datetime=\"2024-10-19 13:42:00\">19 ต.ค. 2567 ,13:42น.</time>'\n",
    "pptv_iso = \"2024-10-19 13:42:00\"\n",
    "pptv_dt = datetime.fromisoformat(pptv_iso)\n",
    "\n",
    "# Output format: let's use ISO format for consistency\n",
    "dailynews_str = dailynews_dt.isoformat()\n",
    "thairath_str = thairath_dt.isoformat()\n",
    "pptv_str = pptv_dt.isoformat()\n",
    "\n",
    "# Final unified string\n",
    "final_dates = f\"{dailynews_str}, {thairath_str}, {pptv_str}\"\n",
    "print(final_dates)\n"
   ]
  },
  {
   "cell_type": "code",
   "execution_count": 19,
   "metadata": {},
   "outputs": [
    {
     "name": "stdout",
     "output_type": "stream",
     "text": [
      "2024-10-16T13:20:27, 2024-10-19T14:28:00, 2024-10-19T13:42:00\n"
     ]
    }
   ],
   "source": [
    "import re\n",
    "import locale\n",
    "from datetime import datetime\n",
    "\n",
    "# Ensure that the locale is set to Thai for parsing the Thai date format\n",
    "locale.setlocale(locale.LC_TIME, \"th_TH.utf8\")\n",
    "\n",
    "# 1. Daily News (ISO format with timezone)\n",
    "dailynews_date = \"2024-10-16T13:20:27+00:00\"\n",
    "# Parse the date and exclude the timezone\n",
    "dailynews_dt = datetime.fromisoformat(dailynews_date)\n",
    "# Format it back without the timezone\n",
    "dailynews_str = dailynews_dt.strftime(\"%Y-%m-%dT%H:%M:%S\")\n",
    "\n",
    "# 2. Thairath date (Thai Buddhist calendar)\n",
    "thairath_date = \"19 ต.ค. 2567 14:26 น.\"\n",
    "# Replace Buddhist year (2567) with Gregorian year by subtracting 543\n",
    "thairath_date_gregorian = thairath_date.replace(\"2567\", str(2567 - 543))\n",
    "thairath_date_gregorian = '19 ต.ค. 2024 14:28 น.'\n",
    "thairath_dt = datetime.strptime(thairath_date_gregorian, \"%d %b %Y %H:%M น.\")\n",
    "thairath_str = thairath_dt.isoformat()\n",
    "\n",
    "# 3. PPTV date (ISO format within HTML)\n",
    "pptv_date = '<time datetime=\"2024-10-19 13:42:00\">19 ต.ค. 2567 ,13:42น.</time>'\n",
    "# Regex to extract the date and time inside the datetime attribute\n",
    "regex = r'datetime=\"([0-9\\-]+\\s[0-9:]+)\"'\n",
    "\n",
    "# Find the first match\n",
    "match = re.search(regex, pptv_date)\n",
    "if match:\n",
    "    pptv_iso = match.group(1)\n",
    "\n",
    "pptv_dt = datetime.fromisoformat(pptv_iso)\n",
    "pptv_str = pptv_dt.isoformat()\n",
    "\n",
    "# Final unified string without the +00:00 from dailynews\n",
    "final_dates = f\"{dailynews_str}, {thairath_str}, {pptv_str}\"\n",
    "print(final_dates)"
   ]
  }
 ],
 "metadata": {
  "kernelspec": {
   "display_name": "Python 3",
   "language": "python",
   "name": "python3"
  },
  "language_info": {
   "codemirror_mode": {
    "name": "ipython",
    "version": 3
   },
   "file_extension": ".py",
   "mimetype": "text/x-python",
   "name": "python",
   "nbconvert_exporter": "python",
   "pygments_lexer": "ipython3",
   "version": "3.12.7"
  }
 },
 "nbformat": 4,
 "nbformat_minor": 2
}
